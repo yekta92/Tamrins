{
 "cells": [
  {
   "cell_type": "code",
   "execution_count": 7,
   "id": "77fbc215",
   "metadata": {},
   "outputs": [
    {
     "name": "stdout",
     "output_type": "stream",
     "text": [
      "[1, 3]\n"
     ]
    }
   ],
   "source": [
    "from typing import List\n",
    "\n",
    "class Solution:\n",
    "    def twoSum(self,nums: List[int], target: int) -> List[int]:\n",
    "        for i in range(len(nums)):\n",
    "            for j in range(i + 1, len(nums)):\n",
    "                if nums[j] == target - nums[i]:\n",
    "                    return [i, j]\n",
    "        return []\n",
    "    \n",
    "sol=Solution()\n",
    "res=sol.twoSum(nums=[10,2,1,3,5],target=5)\n",
    "print(res)"
   ]
  },
  {
   "cell_type": "code",
   "execution_count": null,
   "id": "3f29e9ee",
   "metadata": {},
   "outputs": [
    {
     "name": "stdout",
     "output_type": "stream",
     "text": [
      "indexes= [0, 1]\n",
      "part_of_list= [2, 7]\n"
     ]
    }
   ],
   "source": [
    "# which sum two numbers is target?\n",
    " \n",
    "num = [2,7,11,15]\n",
    "target = 9\n",
    "\n",
    "for i in range(len(num)):\n",
    "    for j in range(i+1, len(num)):\n",
    "        if num[i] +  num[j] == target :\n",
    "            print(\"indexes=\",[i,j])\n",
    "            print(\"part_of_list=\",[num[i],num[j]])"
   ]
  },
  {
   "cell_type": "code",
   "execution_count": 3,
   "id": "1b1a2af5",
   "metadata": {},
   "outputs": [
    {
     "name": "stdout",
     "output_type": "stream",
     "text": [
      "0\n",
      "1\n",
      "2\n",
      "3\n"
     ]
    }
   ],
   "source": [
    "for i in range(4):\n",
    "    print (i)"
   ]
  },
  {
   "cell_type": "code",
   "execution_count": 9,
   "id": "b7def1f3",
   "metadata": {},
   "outputs": [
    {
     "data": {
      "text/plain": [
       "'243'"
      ]
     },
     "execution_count": 9,
     "metadata": {},
     "output_type": "execute_result"
    }
   ],
   "source": [
    "l1 = [2,4,3]\n",
    "''.join([str(e) for e in l1])\n"
   ]
  },
  {
   "cell_type": "code",
   "execution_count": null,
   "id": "39867fff",
   "metadata": {},
   "outputs": [
    {
     "name": "stdout",
     "output_type": "stream",
     "text": [
      "342\n",
      "465\n",
      "807\n",
      "[7, 0, 8]\n"
     ]
    }
   ],
   "source": [
    "# reversed l1 + reversed l2 = l3, \n",
    "# return (reversed l3)\n",
    "\n",
    "l1 = [2,4,3]\n",
    "l2 = [5,6,4]\n",
    "Output= [7,0,8]\n",
    "\n",
    "l1=list(l1.__reversed__())\n",
    "l2=list(l2.__reversed__())\n",
    "l3=[]\n",
    "\n",
    "l1=''.join([str(e) for e in l1])\n",
    "print(l1)\n",
    "\n",
    "l2=''.join([str(e) for e in l2])\n",
    "print(l2)\n",
    "\n",
    "res=int(l1)+int(l2)\n",
    "print(res)\n",
    "\n",
    "list_res=[int(x) for x in str(res)]\n",
    "reverse_list=list(list_res.__reversed__())\n",
    "print(reverse_list)\n",
    "\n"
   ]
  },
  {
   "cell_type": "code",
   "execution_count": 14,
   "id": "dbef8f31",
   "metadata": {},
   "outputs": [
    {
     "name": "stdout",
     "output_type": "stream",
     "text": [
      "l1_reversed = 243 , l2_reversed = 564\n",
      "[7, 0, 8]\n"
     ]
    }
   ],
   "source": [
    "l1 = [2,4,3]\n",
    "l2 = [5,6,4]\n",
    "Output= [7,0,8]\n",
    "# Explanation = 342 + 465 = 807\n",
    "\n",
    "\n",
    "class Solution:\n",
    "    def addTwoNumbers(self, l1: List[int], l2: List[int]) -> List[int]:\n",
    "        l1_reversed_str = ''.join([str(e) for e in l1])\n",
    "        l2_reversed_str = ''.join([str(e) for e in l2])\n",
    "        print(f\"l1_reversed = {l1_reversed_str} , l2_reversed = {l2_reversed_str}\")\n",
    "\n",
    "        sum=int(l1_reversed_str)+int(l2_reversed_str)\n",
    "        sum_list=[int(x) for x in str(sum)]\n",
    "        reversed_list=list(sum_list.__reversed__())\n",
    "\n",
    "        return reversed_list\n",
    "\n",
    "\n",
    "\n",
    "sol=Solution()\n",
    "res=sol.addTwoNumbers(l1=l1,l2=l2)\n",
    "print(res)"
   ]
  },
  {
   "cell_type": "code",
   "execution_count": 9,
   "id": "c7afbf3c",
   "metadata": {},
   "outputs": [
    {
     "data": {
      "text/plain": [
       "False"
      ]
     },
     "execution_count": 9,
     "metadata": {},
     "output_type": "execute_result"
    }
   ],
   "source": [
    "class Solution:\n",
    "    def isPalindrome(self, x: int) -> bool:\n",
    "        if x > 0 and x == int(str(x)[::-1]) :\n",
    "            return True\n",
    "        else: \n",
    "            return False\n",
    "        \n",
    "\n",
    "sol=Solution()\n",
    "sol.isPalindrome(-121)\n",
    "        "
   ]
  },
  {
   "cell_type": "code",
   "execution_count": null,
   "id": "f482eef6",
   "metadata": {},
   "outputs": [
    {
     "name": "stdout",
     "output_type": "stream",
     "text": [
      "1994\n"
     ]
    },
    {
     "data": {
      "text/plain": [
       "1994"
      ]
     },
     "execution_count": 51,
     "metadata": {},
     "output_type": "execute_result"
    }
   ],
   "source": [
    "class Solution:\n",
    "    def romanToInt(self, input: str) -> int:\n",
    "        roman_dict= {'I':1,'V':5,'X':10,'L':50,'C':100,'D':500,'M':1000}\n",
    "\n",
    "        pairs = {\n",
    "            \"IV\": 4,   \n",
    "            \"IX\": 9,   \n",
    "            \"XL\": 40,  \n",
    "            \"XC\": 90,  \n",
    "            \"CD\": 400, \n",
    "            \"CM\": 900  \n",
    "}\n",
    "        i = 0\n",
    "        total = 0\n",
    "\n",
    "        while i < len(input):\n",
    "            if i + 1 < len(input) and input[i:i+2] in pairs:\n",
    "                total += pairs[input[i:i+2]]\n",
    "                i += 2  \n",
    "            else:\n",
    "                total += roman_dict[input[i]]\n",
    "                i += 1\n",
    "\n",
    "        return total\n",
    "\n",
    "\n",
    "\n",
    "sol=Solution()\n",
    "sol.romanToInt('MCMXCIV')\n",
    "        "
   ]
  },
  {
   "cell_type": "code",
   "execution_count": null,
   "id": "f0ff9318",
   "metadata": {},
   "outputs": [
    {
     "name": "stdout",
     "output_type": "stream",
     "text": [
      "fl\n",
      "\n"
     ]
    }
   ],
   "source": [
    "from typing import List\n",
    "\n",
    "class Solution:\n",
    "    def longest_common_prefix(self, strs: List[str]) -> str:\n",
    "        if not strs:\n",
    "            return \"\"\n",
    "\n",
    "        prefix = strs[0]\n",
    "\n",
    "        for string in strs[1:]:\n",
    "            while not string.startswith(prefix):\n",
    "                prefix = prefix[:-1]\n",
    "                if prefix == \"\":\n",
    "                    return \"\"\n",
    "\n",
    "        return prefix\n",
    "\n",
    "\n",
    "sol = Solution()\n",
    "print(sol.longest_common_prefix([\"flower\",\"flow\",\"flight\"]))  \n",
    "print(sol.longest_common_prefix([\"dog\",\"racecar\",\"car\"]))     \n"
   ]
  },
  {
   "cell_type": "code",
   "execution_count": 3,
   "id": "cd6683cb",
   "metadata": {},
   "outputs": [
    {
     "name": "stdout",
     "output_type": "stream",
     "text": [
      "a1o\n",
      "b2p\n",
      "c3\n",
      "4\n",
      "5\n"
     ]
    }
   ],
   "source": [
    "words=['abc','12345','op']\n",
    "max_len = max(len(e) for e  in words)\n",
    "\n",
    "for i in range(max_len):\n",
    "  for word in words:\n",
    "    char = word[i] if i < len(word) else ''\n",
    "    print(char,end='')\n",
    "\n",
    "  print()\n"
   ]
  },
  {
   "cell_type": "code",
   "execution_count": null,
   "id": "70e90a75",
   "metadata": {},
   "outputs": [
    {
     "name": "stdout",
     "output_type": "stream",
     "text": [
      "None\n"
     ]
    }
   ],
   "source": [
    "x='23115935'\n",
    "\n",
    "res=[]\n",
    "class Solution:\n",
    "    def myAtoi(self, s: str) -> int:\n",
    "        res.append([int(e) for e in s])\n",
    "\n",
    "\n",
    "# sl=Solution()     \n",
    "# res=sl.myAtoi(x)  \n",
    "# print(res)\n",
    "\n"
   ]
  },
  {
   "cell_type": "code",
   "execution_count": null,
   "id": "70f52a4e",
   "metadata": {},
   "outputs": [
    {
     "data": {
      "text/plain": [
       "[2, 3, 1, 1]"
      ]
     },
     "execution_count": 5,
     "metadata": {},
     "output_type": "execute_result"
    }
   ],
   "source": [
    "x='2311'\n",
    "\n",
    "c=[int(e) for e in x]\n",
    "c"
   ]
  },
  {
   "cell_type": "code",
   "execution_count": null,
   "id": "292e87e3",
   "metadata": {},
   "outputs": [
    {
     "data": {
      "text/plain": [
       "[1, 1, 2, 3, 4, 4]"
      ]
     },
     "execution_count": 5,
     "metadata": {},
     "output_type": "execute_result"
    }
   ],
   "source": [
    "\n",
    "from typing import Optional\n",
    "\n",
    "# Definition for singly-linked list.\n",
    "class ListNode:\n",
    "    def __init__(self, val=0, next=None):\n",
    "        self.val = val\n",
    "        self.next = next\n",
    "\n",
    "class Solution:\n",
    "    def mergeTwoLists(self, list1: Optional[ListNode], list2: Optional[ListNode]) -> Optional[ListNode]:\n",
    "        # Create a dummy node to simplify edge cases\n",
    "        dummy = ListNode()\n",
    "        current = dummy\n",
    "\n",
    "        # Traverse both lists until one is exhausted\n",
    "        while list1 and list2:\n",
    "            if list1.val < list2.val:\n",
    "                current.next = list1\n",
    "                list1 = list1.next\n",
    "            else:\n",
    "                current.next = list2\n",
    "                list2 = list2.next\n",
    "            current = current.next\n",
    "\n",
    "        # Attach the remaining nodes from either list1 or list2\n",
    "        current.next = list1 if list1 else list2\n",
    "\n",
    "        # Return the merged list, skipping the dummy node\n",
    "        return dummy.next\n",
    "\n",
    "\n",
    "\n",
    "\n",
    "# Helper function to create linked list from Python list\n",
    "def create_linked_list(arr):\n",
    "    dummy = ListNode()\n",
    "    current = dummy\n",
    "    for val in arr:\n",
    "        current.next = ListNode(val)\n",
    "        current = current.next\n",
    "    return dummy.next\n",
    "\n",
    "# Helper function to print linked list\n",
    "def print_linked_list(head):\n",
    "    vals = []\n",
    "    while head:\n",
    "        vals.append(head.val)\n",
    "        head = head.next\n",
    "    return vals\n",
    "\n",
    "list1 = create_linked_list([1, 2, 4])\n",
    "list2 = create_linked_list([1, 3, 4])\n",
    "\n",
    "sol = Solution()\n",
    "merged = sol.mergeTwoLists(list1, list2)\n",
    "print_linked_list(merged)  # Output: 1 -> 1 -> 2 -> 3 -> 4 -> 4\n",
    "\n",
    "        "
   ]
  },
  {
   "cell_type": "code",
   "execution_count": null,
   "id": "03caf9fa",
   "metadata": {},
   "outputs": [
    {
     "name": "stdout",
     "output_type": "stream",
     "text": [
      "Max: 20\n",
      "Min: 5\n"
     ]
    }
   ],
   "source": [
    "# Problem 1: Find the maximum and minimum values in an array.\n",
    "\n",
    "num = [10, 5, 20, 8, 15]\n",
    "\n",
    "max = num[0]\n",
    "min = num[0]\n",
    "\n",
    "for n in num[1:]:\n",
    "    if n > max:\n",
    "        max = n\n",
    "    if n < min:\n",
    "        min = n\n",
    "\n",
    "print(f\"Max: {max}\")\n",
    "print(f\"Min: {min}\")\n"
   ]
  },
  {
   "cell_type": "code",
   "execution_count": 12,
   "id": "0c950556",
   "metadata": {},
   "outputs": [
    {
     "data": {
      "text/plain": [
       "[15, 8, 20, 5, 10]"
      ]
     },
     "execution_count": 12,
     "metadata": {},
     "output_type": "execute_result"
    }
   ],
   "source": [
    "#  Problem 2:Reverse an array or string in-place\n",
    "\n",
    "num = [10, 5, 20, 8, 15]\n",
    "\n",
    "start = 0\n",
    "end = len(num) - 1\n",
    "\n",
    "while start < end:\n",
    "    num[start], num[end] = num[end], num[start]  \n",
    "    start += 1\n",
    "    end -= 1\n",
    "    \n",
    "num\n"
   ]
  },
  {
   "cell_type": "code",
   "execution_count": 35,
   "id": "8a3226b9",
   "metadata": {},
   "outputs": [
    {
     "name": "stdout",
     "output_type": "stream",
     "text": [
      "[15, 8, 20, 5, 10]\n"
     ]
    }
   ],
   "source": [
    "num = [10, 5, 20, 8, 15]\n",
    "\n",
    "\n",
    "for i in range(len(num) // 2):\n",
    "    num[i], num[-i - 1] = num[-i - 1], num[i]\n",
    "\n",
    "print(num)    \n"
   ]
  },
  {
   "cell_type": "code",
   "execution_count": 36,
   "id": "44588361",
   "metadata": {},
   "outputs": [
    {
     "data": {
      "text/plain": [
       "[10, 5, 20, 8, 15]"
      ]
     },
     "execution_count": 36,
     "metadata": {},
     "output_type": "execute_result"
    }
   ],
   "source": [
    "# Problem 3: Remove duplicates from an array.\n",
    "\n",
    "num = [10 ,10 , 5, 20, 5, 20, 8, 15]\n",
    "\n",
    "d = set()\n",
    "\n",
    "result = []\n",
    "\n",
    "for n in num:\n",
    "    if n not in d:\n",
    "        d.add(n)\n",
    "        result.append(n)\n",
    "\n",
    "result\n"
   ]
  },
  {
   "cell_type": "code",
   "execution_count": null,
   "id": "1fb6f644",
   "metadata": {},
   "outputs": [
    {
     "name": "stdout",
     "output_type": "stream",
     "text": [
      "15\n",
      "5\n"
     ]
    }
   ],
   "source": [
    "# pop\n",
    "num = [10 ,10 , 5, 20, 5, 20, 8, 15]\n",
    "\n",
    "last = num.pop()\n",
    "print(last)\n",
    "\n",
    "remove_item=num.pop(2)\n",
    "print(remove_item)"
   ]
  },
  {
   "cell_type": "code",
   "execution_count": null,
   "id": "2144bf6d",
   "metadata": {},
   "outputs": [
    {
     "data": {
      "text/plain": [
       "[10, 5, 20, 8, 15]"
      ]
     },
     "execution_count": 43,
     "metadata": {},
     "output_type": "execute_result"
    }
   ],
   "source": [
    "# Problem 3: Remove duplicates from an array: second way\n",
    "\n",
    "num = [10 ,10 , 5, 20, 5, 20, 8, 15]\n",
    "\n",
    "\n",
    "for i in range(len(num)-1):\n",
    "    j= i+1\n",
    "    while j < len(num):\n",
    "        if num[j] == num[i]:\n",
    "            num.pop(j)\n",
    "\n",
    "        else:\n",
    "            j+=1\n",
    "num\n"
   ]
  },
  {
   "cell_type": "code",
   "execution_count": 4,
   "id": "b91b71ba",
   "metadata": {},
   "outputs": [
    {
     "name": "stdout",
     "output_type": "stream",
     "text": [
      "[4, 5, 6, 7, 1, 2, 3]\n"
     ]
    }
   ],
   "source": [
    "# Problem 4: Rotate an array to the right or left by a given number of steps.\n",
    "Input= [1, 2, 3, 4, 5, 6, 7] \n",
    "k = 3\n",
    "Output= [5, 6, 7, 1, 2, 3, 4]\n",
    "\n",
    "\n",
    "# index=Input[k]\n",
    "# print(index)\n",
    "# left=Input[:index]\n",
    "# print(left)\n",
    "# right=Input[index:]\n",
    "# print(right)\n",
    "\n",
    "# output=right+left\n",
    "# print(output)\n",
    "\n",
    "\n",
    "left = []\n",
    "right = []\n",
    "\n",
    "i = 0\n",
    "while i < k:\n",
    "    left.append(Input[i])\n",
    "    i += 1\n",
    "\n",
    "j = k\n",
    "while j < len(Input):\n",
    "    right.append(Input[j])\n",
    "    j += 1\n",
    "\n",
    "if k < 0 :\n",
    "    output = left + right\n",
    "else:\n",
    "    output = right + left\n",
    "\n",
    "\n",
    "print(output)\n",
    "\n"
   ]
  },
  {
   "cell_type": "code",
   "execution_count": 5,
   "id": "d65e8bab",
   "metadata": {},
   "outputs": [
    {
     "name": "stdout",
     "output_type": "stream",
     "text": [
      "[4, 5, 6, 7]\n",
      "[1, 2, 3, 4, 5, 6, 7, 1, 2, 3, 4, 5, 6, 7]\n",
      "[4, 5, 6, 7, 1, 2, 3, 4, 5, 6, 7, 1, 2, 3, 4, 5, 6, 7]\n"
     ]
    }
   ],
   "source": [
    "# Problem 4: Rotate an array to the right or left by a given number of steps.\n",
    "Input= [1, 2, 3, 4, 5, 6, 7] \n",
    "k = -4\n",
    "Output= [4 ,5, 6, 7 , 1, 2 ,3]\n",
    "\n",
    "\n",
    "left = []\n",
    "right = []\n",
    "\n",
    "# if k > 0:\n",
    "#     for i in range(k):\n",
    "#         left.append(Input[i])\n",
    "\n",
    "\n",
    "#     for j in range(k, len(Input)):\n",
    "#         right.append(Input[j])\n",
    "\n",
    "#     output = right + left\n",
    "\n",
    "# else:\n",
    "\n",
    "\n",
    "\n",
    "Input= [1, 2, 3, 4, 5, 6, 7] \n",
    "k = -4\n",
    "\n",
    "left=[4 ,5, 6, 7]\n",
    "right=[ 1, 2 ,3]\n",
    "\n",
    "Output= [4 ,5, 6, 7 , 1, 2 ,3]\n",
    "\n",
    "for i in range(k,):\n",
    "    left.append(Input[i])\n",
    "\n",
    "\n",
    "for j in range(k, len(Input)):\n",
    "    right.append(Input[j])\n",
    "\n",
    "output = left + right  \n",
    "\n",
    "\n",
    "\n",
    "\n",
    "\n",
    "print(left)\n",
    "print(right)\n",
    "print(output)"
   ]
  },
  {
   "cell_type": "code",
   "execution_count": 6,
   "id": "ce8186e4",
   "metadata": {},
   "outputs": [
    {
     "name": "stdout",
     "output_type": "stream",
     "text": [
      "h\n"
     ]
    }
   ],
   "source": [
    "# Problem 1: Find the first non-repeating character in a string.\n",
    "\n",
    "string = 'ddfufuyeyeh'\n",
    "output = 'h'\n",
    "\n",
    "\n",
    "\n",
    "for i in range(len(string)):\n",
    "    # print(i)\n",
    "    index=0\n",
    "\n",
    "    for j in range(len(string)):\n",
    "        # print(j)\n",
    "        if string[i] == string[j]:\n",
    "            index +=1\n",
    "            # print(index)\n",
    "\n",
    "    if index == 1:\n",
    "        res=string[i]\n",
    "        print(res)\n",
    "        break\n",
    "\n",
    "\n",
    "\n"
   ]
  },
  {
   "cell_type": "code",
   "execution_count": 7,
   "id": "31d1b806",
   "metadata": {},
   "outputs": [
    {
     "name": "stdout",
     "output_type": "stream",
     "text": [
      "a\n"
     ]
    }
   ],
   "source": [
    "string = 'eabbcddde'\n",
    "\n",
    "res = None \n",
    "\n",
    "for i in range(len(string)):\n",
    "    count = 0\n",
    "\n",
    "    for j in range(len(string)):\n",
    "        if string[i] == string[j]:\n",
    "            count += 1\n",
    "    if count == 1:\n",
    "        res = string[i]\n",
    "        break \n",
    "\n",
    "print(res)  \n"
   ]
  },
  {
   "cell_type": "code",
   "execution_count": 8,
   "id": "95be77ea",
   "metadata": {},
   "outputs": [
    {
     "name": "stdout",
     "output_type": "stream",
     "text": [
      "range(0, 9)\n",
      "0\n",
      "1\n",
      "2\n",
      "3\n",
      "4\n",
      "5\n",
      "6\n",
      "7\n",
      "8\n"
     ]
    }
   ],
   "source": [
    "print(range(len(string)))\n",
    "\n",
    "i = 1\n",
    "for i in range(len(string)):\n",
    "     print(i)\n"
   ]
  },
  {
   "cell_type": "code",
   "execution_count": 9,
   "id": "80559228",
   "metadata": {},
   "outputs": [
    {
     "data": {
      "text/plain": [
       "range(0, 9)"
      ]
     },
     "execution_count": 9,
     "metadata": {},
     "output_type": "execute_result"
    }
   ],
   "source": [
    "range(len(string))\n"
   ]
  },
  {
   "cell_type": "code",
   "execution_count": 8,
   "id": "68204086",
   "metadata": {},
   "outputs": [
    {
     "name": "stdout",
     "output_type": "stream",
     "text": [
      "1\n",
      "2\n",
      "3\n",
      "4\n",
      "5\n",
      "6\n",
      "7\n",
      "8\n"
     ]
    }
   ],
   "source": [
    "\n",
    "for i in range(1, len(string)):\n",
    "     print(i)\n"
   ]
  },
  {
   "cell_type": "code",
   "execution_count": 9,
   "id": "2dc28d37",
   "metadata": {},
   "outputs": [
    {
     "name": "stdout",
     "output_type": "stream",
     "text": [
      "1\n",
      "2\n",
      "3\n",
      "4\n",
      "5\n",
      "6\n",
      "7\n",
      "8\n",
      "9\n"
     ]
    }
   ],
   "source": [
    "for i in range(1,10):\n",
    "    print(i)"
   ]
  },
  {
   "cell_type": "code",
   "execution_count": 10,
   "id": "9e577464",
   "metadata": {},
   "outputs": [
    {
     "name": "stdout",
     "output_type": "stream",
     "text": [
      "e is the first non-repeating character\n"
     ]
    }
   ],
   "source": [
    "string = 'eabdbcddde'\n",
    "# string = '1234'\n",
    "# output = 'a'\n",
    "\n",
    "found = False\n",
    "for i in range(len(string)):\n",
    "    for j in range(len(string)):\n",
    "        if j == i:\n",
    "            continue\n",
    "        if string[j] == string[i]:\n",
    "            break\n",
    "        found = True\n",
    "    if found:\n",
    "        print(string[i], \"is the first non-repeating character\")\n",
    "        break\n"
   ]
  },
  {
   "cell_type": "code",
   "execution_count": 80,
   "id": "d4481e8e",
   "metadata": {},
   "outputs": [
    {
     "name": "stdout",
     "output_type": "stream",
     "text": [
      "element 10 occurs 4 items\n",
      "element 30 occurs 2 items\n",
      "element 10 occurs 4 items\n",
      "element 20 occurs 2 items\n",
      "element 10 occurs 4 items\n",
      "element 20 occurs 2 items\n",
      "element 30 occurs 2 items\n",
      "element 10 occurs 4 items\n"
     ]
    }
   ],
   "source": [
    "# Problem 2: Count the frequency of elements in an array.\n",
    "\n",
    "array = [10, 30, 10, 20, 10, 20, 30, 10]\n",
    "\n",
    "# Element 10 occurs 4 times\n",
    "# Element 30 occurs 2 times\n",
    "# Element 20 occurs 2 times\n",
    "\n",
    "for i in range(len(array)):\n",
    "    count=0\n",
    "    for j in range(len(array)):\n",
    "        if array[i]==array[j]:\n",
    "            count +=1\n",
    "       \n",
    "\n",
    "    print(f\"element {array[i]} occurs {count} items\")\n",
    "\n",
    "            \n",
    "\n",
    "\n"
   ]
  },
  {
   "cell_type": "code",
   "execution_count": null,
   "id": "d2048c2d",
   "metadata": {},
   "outputs": [
    {
     "name": "stdout",
     "output_type": "stream",
     "text": [
      "Method I Result: [4, 2, 4, 2, 4, 2, 2, 4]\n",
      "Method II Result: {10: 4, 30: 5, 20: 10}\n"
     ]
    }
   ],
   "source": [
    "# Problem 2: Count the frequency of elements in an array.\n",
    "\n",
    "arr = [10, 30, 10, 20, 10, 20, 30, 10]\n",
    "\n",
    "# Method I (Result is Array - Easier):\n",
    "result = []\n",
    "for i in range(len(arr)):\n",
    "    result.append(1)\n",
    "    for j in range(len(arr)):\n",
    "        if i == j:\n",
    "            continue\n",
    "        if arr[i] == arr[j]:\n",
    "            result[i] += 1\n",
    "print ('Method I Result:', result)\n",
    "\n",
    "\n",
    "\n",
    "# Method II (Result is Dict):\n",
    "result = {}\n",
    "for i in range(len(arr)):\n",
    "    if arr[i] not in result:\n",
    "        key = arr[i]\n",
    "        result[key] = 1\n",
    "    for j in range(len(arr)):\n",
    "        if i == j:\n",
    "            continue\n",
    "        if arr[i] == arr[j]:\n",
    "            result[key] += 1\n",
    "print ('Method II Result:', result)\n"
   ]
  },
  {
   "cell_type": "code",
   "execution_count": null,
   "id": "0cf480c5",
   "metadata": {},
   "outputs": [],
   "source": [
    "# Problem 3: Check if two strings are anagrams of each other.\n",
    "\n",
    "input=['abc','cba','yen']\n",
    "\n",
    "a = 'abc'\n",
    "b = 'cba'\n",
    "c= 'yen'\n",
    "\n",
    "a_b_result = True\n",
    "a_c_result = False\n",
    "\n",
    "\n",
    "\n",
    "def is_anagrams(input:List[str]) -> bool:\n",
    "\n",
    "    for i in range(len(input)):\n",
    "        \n",
    "\n",
    "            string2_reversed=[]\n",
    "            for j in range(len(string2)-1,-1,-1):\n",
    "\n",
    "                if len(input[i]) == len(input[j]):\n",
    "                    \n",
    "                string2_reversed.append(string2[j])\n",
    "\n",
    "            string2_reversed=''.join(string2_reversed)\n",
    "\n",
    "            if string2_reversed == string1 :\n",
    "                return True\n",
    "            else:\n",
    "                return False\n",
    "        else:\n",
    "            return False\n",
    "        \n",
    "\n",
    "# is_anagrams(s,d)\n",
    "\n",
    "\n",
    "\n",
    "\n",
    "\n",
    "\n"
   ]
  },
  {
   "cell_type": "code",
   "execution_count": null,
   "id": "bafb5bc9",
   "metadata": {},
   "outputs": [
    {
     "name": "stdout",
     "output_type": "stream",
     "text": [
      "True\n"
     ]
    }
   ],
   "source": [
    "# Problem 3: Check if two strings are anagrams of each other.\n",
    "\n",
    "s=\"abcde\"\n",
    "d=\"edcba\"\n",
    "\n",
    "\n",
    "if len(s) == len(d):\n",
    "    is_anagram = True\n",
    "    for i in range(0,len(s),1):\n",
    "        count_s=0\n",
    "        count_d=0\n",
    "\n",
    "        for j in range(len(d)-1,-1,-1):\n",
    "            if s[i] == s[j]:\n",
    "                count_s+=1\n",
    "\n",
    "            if s[i] == d[j]:\n",
    "                count_d +=1\n",
    "                if count_s != count_d:\n",
    "                    is_anagram = False\n",
    "                    break\n",
    "      \n",
    "\n",
    "print(is_anagram)\n",
    "\n",
    "            \n",
    "# second way:\n",
    "# if len(s) == len(d):\n",
    "#     is_anagram = True\n",
    "#     for i in range(len(s)):\n",
    "#         count_s = 0\n",
    "#         count_d = 0\n",
    "#         for j in range(len(s)):\n",
    "#             if s[i] == s[j]:\n",
    "#                 count_s += 1\n",
    "#             if s[i] == d[j]:\n",
    "#                 count_d += 1\n",
    "#         if count_s != count_d:\n",
    "#             is_anagram = False\n",
    "#             break\n",
    "#     print(is_anagram)\n",
    "# else:\n",
    "#     print(False)\n"
   ]
  },
  {
   "cell_type": "code",
   "execution_count": null,
   "id": "d14c0a3f",
   "metadata": {},
   "outputs": [
    {
     "data": {
      "text/plain": [
       "True"
      ]
     },
     "execution_count": 107,
     "metadata": {},
     "output_type": "execute_result"
    }
   ],
   "source": [
    "# Problem 3: Check if two strings are anagrams of each other.\n",
    "# Given a list of integers, find if there are any two numbers that sum up to a given target\n",
    "# (this is similar to the example you shared, but make sure she has a solid grasp of the hash map-based solution).\n",
    "s=\"abcde\"\n",
    "d=\"edcba\"\n",
    "\n",
    "\n",
    "def is_anagrams(string1:str,string2:str) -> bool:\n",
    "\n",
    "    if len(string1) == len(string2):\n",
    "        string2_reversed=[]\n",
    "        for j in range(len(string2)-1,-1,-1):\n",
    "            string2_reversed.append(string2[j])\n",
    "\n",
    "        string2_reversed=''.join(string2_reversed)\n",
    "\n",
    "        if string2_reversed == string1 :\n",
    "            return True\n",
    "        else:\n",
    "            return False\n",
    "    else:\n",
    "        return False\n",
    "    \n",
    "\n",
    "is_anagrams(s,d)\n"
   ]
  },
  {
   "cell_type": "code",
   "execution_count": null,
   "id": "c956e786",
   "metadata": {},
   "outputs": [
    {
     "data": {
      "text/plain": [
       "[[0, 1], [6, 0]]"
      ]
     },
     "execution_count": 129,
     "metadata": {},
     "output_type": "execute_result"
    }
   ],
   "source": [
    "# Problem 4: Given a list of integers, find if there are any two numbers that sum up to a given target\n",
    "# (this is similar to the example you shared, but make sure she has a solid grasp of the hash map-based solution).\n",
    "\n",
    "from typing import List\n",
    "\n",
    "list=[5,8,10,4,59,7,8]\n",
    "target=13\n",
    "\n",
    "def find_two_numbers(list:List[int], target:int) -> List :\n",
    "    res=[]\n",
    "    for i in range(len(list)):\n",
    "\n",
    "        for j in range(len(list)-1):\n",
    "\n",
    "            if list[i] + list[j] == target:\n",
    "                if [j,i] not in res :\n",
    "                    res.append([i,j])\n",
    "\n",
    "    return res\n",
    "\n",
    "   \n",
    "res = find_two_numbers(list,target)\n",
    "res\n"
   ]
  },
  {
   "cell_type": "code",
   "execution_count": null,
   "id": "4c454208",
   "metadata": {},
   "outputs": [
    {
     "data": {
      "text/plain": [
       "[10]"
      ]
     },
     "execution_count": 148,
     "metadata": {},
     "output_type": "execute_result"
    }
   ],
   "source": [
    "# Basic Searching and Sorting:\n",
    "\n",
    "# Problem 1: Implement linear search and binary search on a sorted array.\n",
    "\n",
    "\n",
    "# 1. linear search: Linear search and binary search are fundamental algorithms for finding elements in arrays,\n",
    "#  each with distinct use cases and performance characteristics.\n",
    "# A simple algorithm that checks each element sequentially until the target is found. \n",
    "# Works on both sorted and unsorted arrays.\n",
    "\n",
    "list=[5,8,10,4,59,7,8]\n",
    "target=10\n",
    "res=[element for element in list if element==target]\n",
    "    \n",
    "print(res)\n"
   ]
  },
  {
   "cell_type": "code",
   "execution_count": 2,
   "id": "fb8f750a",
   "metadata": {},
   "outputs": [
    {
     "name": "stdout",
     "output_type": "stream",
     "text": [
      "s= 0\n",
      "e= 6\n",
      "m= 3\n",
      ">>>>>>>>>>>>>>\n",
      "s= 4\n",
      "e= 6\n",
      "m= 5\n",
      ">>>>>>>>>>>>>>\n",
      "s= 6\n",
      "e= 6\n",
      "m= 6\n",
      ">>>>>>>>>>>>>>\n",
      "mid_val= 7\n"
     ]
    }
   ],
   "source": [
    "# 2. binary search :An efficient algorithm for sorted arrays that repeatedly divides the search space in half. \n",
    "# Requires the array to be sorted first\n",
    "\n",
    "# 1. ابتدا عضو وسط آرایه رو پیدا میکنیم.\n",
    "# 2. تارگت رو با آرایه وسط مقایسه میکنیم . اگر برابر بودن  ->  تمام. \n",
    "# 3. اگر نبودن  باید ببینیم تارگت کوچکتر از عضو وسط هست یا بزرگتر .\n",
    "# 4. اگر بزرگتر بود در نیمه دوم مجموعه مقایسه رو ادامه میدیم اگر کوچکتر بود در نیمه اول مجموعه مقایسه رو انجام میدیم.\n",
    "# 5.این کار رو هر بار انجام میدیم تا به تارگت برسیم.\n",
    "\n",
    "input = [1,2,3,4,5,6,7]\n",
    "target = 7\n",
    "\n",
    "\n",
    "start=0\n",
    "end=len(input) -1 \n",
    "\n",
    "while start <= end:\n",
    "    mid = (start + end) // 2\n",
    "\n",
    "    print(\"s=\",start)\n",
    "    print(\"e=\" , end)\n",
    "    print(\"m=\",mid)\n",
    "    print(\">>>>>>>>>>>>>>\")\n",
    "\n",
    "\n",
    "    mid_val=input[mid]\n",
    "\n",
    "    if mid_val == target:\n",
    "        print(\"mid_val=\",mid_val)\n",
    "        break\n",
    "\n",
    "    elif mid_val < target :\n",
    "        start = mid +1\n",
    "\n",
    "    else:\n",
    "        end = mid - 1\n",
    "\n",
    "\n"
   ]
  },
  {
   "cell_type": "code",
   "execution_count": 2,
   "id": "58fd868c",
   "metadata": {},
   "outputs": [],
   "source": [
    "# Problem 2: Implement bubble sort or selection sort and understand their time complexity.\n",
    "\n",
    "# توضیح فارسی:\n",
    "# 1. روی تمام آرایه پیمایش میکنیم و هر دو عضو را با هم مقایسه میکنیم و هر کدام بزرگتر بودم.\n",
    "# 2. سپس متغیر کوچکتر را که ذخیره نشده با عضو بعدی آرایه در نظر میگیریم\n",
    "# 3. و این کارا ادامه میدهیم تا کل آرایه مرتب شود.\n",
    "\n",
    "# Algorithm  \tBest Case\t    Average Case\t    Worst Case\t         Space Complexity\n",
    "# Bubble Sort\tO(n)        \tO(n^2)\t            O(n^2)               O(1)\n",
    "# Quick Sort\tO(nlogn)        O(nlogn)        \tO(n^2)\t             O(log(n))\n",
    "\n",
    "\n",
    "input=[5,8,10,4,5,9,7,8]\n",
    "\n",
    "output=[4,5,5,7,8,8,9,10]\n",
    "\n",
    "\n",
    "for i in range(len(input)):\n",
    "    # print(i)\n",
    "    for j in range(len(input)-1):\n",
    "        # print(j)\n",
    "        if input[i] < input[j+1]:\n",
    "            # print(\"input[i]\",input[i])\n",
    "            # print(\"input[j]\",input[j])\n",
    "\n",
    "            input[i], input[j+1] = input[j+1], input[i]\n",
    "            # print(input)\n",
    "\n",
    "        elif  input[i] < input[j+1]:\n",
    "            input[j+1], input[i] = input[i], input[j+1]\n",
    "            # print(input)\n",
    "\n",
    "            i +=1\n",
    "\n",
    "\n",
    "\n",
    "        \n",
    "\n",
    "\n",
    "\n",
    "\n",
    "\n"
   ]
  },
  {
   "cell_type": "code",
   "execution_count": null,
   "id": "b93c2b0e",
   "metadata": {},
   "outputs": [
    {
     "name": "stdout",
     "output_type": "stream",
     "text": [
      "[4, 5, 5, 7, 8, 8, 9, 10]\n"
     ]
    }
   ],
   "source": [
    "# Problem 2: bubble sort\n",
    "\n",
    "# توضیح فارسی:\n",
    "# 1. ابتدا عضو اول را در نظر میگیریم و بقیه اعضا را با آن مقایسه میکنیم به طوریکه کوچکترین عضو  در خانه ی اول قرار میگیرد.\n",
    "# 2. این کار را برای تمامی اعضای آرایه به اندازه طول آرایه انجام میدهیم.\n",
    "\n",
    "\n",
    "input=[5,8,10,4,5,9,7,8]\n",
    "\n",
    "\n",
    "\n",
    "for i in range(len(input)):\n",
    "\n",
    "    for j in range(len(input)-1):\n",
    "        if input[i] < input[j]:\n",
    "            input[j], input[i] = input[i], input[j]\n",
    "\n",
    "        elif input[j] > input[i]:\n",
    "            input[i], input[j] = input[j], input[i]\n",
    "\n",
    "\n",
    "print(input)\n",
    "\n"
   ]
  },
  {
   "cell_type": "code",
   "execution_count": 2,
   "id": "e882ab21",
   "metadata": {},
   "outputs": [
    {
     "name": "stdout",
     "output_type": "stream",
     "text": [
      "[2, 3, 4, 5, 7, 8, 8, 9, 9]\n"
     ]
    },
    {
     "data": {
      "text/plain": [
       "5"
      ]
     },
     "execution_count": 2,
     "metadata": {},
     "output_type": "execute_result"
    }
   ],
   "source": [
    "# Problem 3: Find the kth largest or smallest element in an unsorted array.\n",
    "from typing import List\n",
    "\n",
    "input=[2,5,9,7,3,4,8,9,8]\n",
    "\n",
    "def bubble_sort(input:List, k:int) -> int:\n",
    "    for i in range(len(input)):\n",
    "\n",
    "        for j in range(len(input)-1):\n",
    "            if input[i] < input[j]:\n",
    "                input[j], input[i] = input[i], input[j]\n",
    "\n",
    "            elif input[j] > input[i]:\n",
    "                input[i], input[j] = input[j], input[i]\n",
    "    print(input)\n",
    "    return input[k]\n",
    "\n",
    "\n",
    "bubble_sort(input,k=3)\n",
    "\n"
   ]
  },
  {
   "cell_type": "code",
   "execution_count": null,
   "id": "2510504e",
   "metadata": {},
   "outputs": [
    {
     "name": "stdout",
     "output_type": "stream",
     "text": [
      "[2, 3, 4, 4, 5, 5, 5, 7, 7, 8, 8, 8, 8, 9, 9, 10]\n"
     ]
    }
   ],
   "source": [
    "# Problem 4: Merge two sorted arrays into a single sorted array.\n",
    "\n",
    "# در یک حلقه تکرار تا زمانی که هیچ‌یک از آرایه‌ها تمام نشده‌اند، عنصرهای arr1[i] و arr2[j] را با هم مقایسه می‌کنیم:\n",
    "# اگر arr1[i] کوچکتر یا مساوی arr2[j] بود، arr1[i] را به آرایه نهایی اضافه می‌کنیم و i را یک واحد افزایش می‌دهیم.\n",
    "# در غیر این صورت، arr2[j] را به آرایه نهایی اضافه می‌کنیم و j را افزایش می‌دهیم.\n",
    "# این کار باعث می‌شود که در هر مرحله، کوچک‌ترین عنصر موجود بین دو آرایه به آرایه نهایی منتقل شود.\n",
    "#  افزودن باقی‌مانده عناصر آرایه‌ها-\n",
    "# بعد از اتمام حلقه اصلی، ممکن است یکی از آرایه‌ها هنوز عناصری داشته باشد که به آرایه نهایی اضافه نشده‌اند:\n",
    "# اگر arr1 هنوز عناصر باقی دارد (i < طول arr1)، همه آن‌ها را به آرایه نهایی اضافه می‌کنیم.\n",
    "# اگر arr2 هنوز عناصر باقی دارد (j < طول arr2)، همه آن‌ها را به آرایه نهایی اضافه می‌کنیم.\n",
    "\n",
    "\n",
    "l1=[4,5,5,7,8,8,9,10]\n",
    "l2=[2,3,4,5,7,8,8,9]\n",
    "\n",
    "\n",
    "def merge_two_array(l1,l2):\n",
    "    res=[]\n",
    "    i, j = 0, 0\n",
    "    \n",
    "    while i < len(l1) and j < len(l2):\n",
    "        if l1[i] <= l2[j]:\n",
    "            res.append(l1[i])\n",
    "            i += 1\n",
    "        else:\n",
    "            res.append(l2[j])\n",
    "            j += 1\n",
    "\n",
    "    while i < len(l1):\n",
    "        res.append(l1[i])\n",
    "        i += 1\n",
    "\n",
    "    while j < len(l2):\n",
    "        res.append(l2[j])\n",
    "        j += 1\n",
    "    \n",
    "    return res\n",
    "\n",
    "\n",
    "res=merge_two_array(l1,l2)\n",
    "print(res)\n",
    "\n",
    "\n",
    "\n"
   ]
  },
  {
   "cell_type": "code",
   "execution_count": null,
   "id": "b4e07b88",
   "metadata": {},
   "outputs": [
    {
     "name": "stdout",
     "output_type": "stream",
     "text": [
      "apbqcrs\n"
     ]
    }
   ],
   "source": [
    "# tamrin 1 : merge two words(strings) by adding letters in alternative order , starting with word1.\n",
    "\n",
    "\n",
    "def merged_string(word1:str, word2:str) -> str:\n",
    "    res=[]\n",
    "\n",
    "    loop_len=min(len(word1),len(word2))\n",
    "    if len(word2) > len(word1):\n",
    "        c=word2[len(word1) :]\n",
    "    else: \n",
    "        c=word1[len(word2) :]\n",
    "\n",
    "\n",
    "    for i in range(loop_len):\n",
    "        res.append(word1[i])\n",
    "        res.append(word2[i])\n",
    "\n",
    "    res.append(c)\n",
    "    res = ''.join(str(e) for e in res)\n",
    "\n",
    "    return res\n",
    "\n",
    "\n",
    "\n",
    "\n",
    "word1='abc'\n",
    "word2='pqrs'\n",
    "\n",
    "res=merged_string(word1,word2)\n",
    "print(res)\n",
    "\n"
   ]
  },
  {
   "cell_type": "code",
   "execution_count": 13,
   "id": "d9b6d242",
   "metadata": {},
   "outputs": [
    {
     "name": "stdout",
     "output_type": "stream",
     "text": [
      "5\n",
      "quick\n"
     ]
    }
   ],
   "source": [
    "# tamrin 2: Longest word in a sentence\n",
    "\n",
    "input=\"the quick brown fox jumps over the lazy dog\"\n",
    "\n",
    "output=\"jumps\"\n",
    "\n",
    "def longest_word(input:str) -> str:\n",
    "    words=input.split()\n",
    "    length=0\n",
    "\n",
    "    for word in words:\n",
    "        if len(word) > length:\n",
    "            length, output = len(word) , word\n",
    "\n",
    "    return length,output\n",
    "\n",
    "length,output=longest_word(input)\n",
    "\n",
    "print(length)\n",
    "print(output)\n"
   ]
  },
  {
   "cell_type": "code",
   "execution_count": 26,
   "id": "be5e0cba",
   "metadata": {},
   "outputs": [
    {
     "name": "stdout",
     "output_type": "stream",
     "text": [
      "[4, 4, 2, 2, 7, 7, 4, 4]\n"
     ]
    }
   ],
   "source": [
    "# tamrin 3: Remove Duplication and sort\n",
    "\n",
    "input=[4,2,7,4]\n",
    "output=[1,2,4,7,9]\n",
    "\n",
    "\n",
    "output=[]\n",
    "\n",
    "for i in range(len(input)):\n",
    "    for j in range(1,len(input)-1):\n",
    "        if input[i] != input[j]:\n",
    "            j+=1\n",
    "        output.append(input[i])\n",
    "\n",
    "\n",
    "\n",
    "print(output)\n",
    "\n",
    "\n",
    "\n",
    "\n",
    "\n"
   ]
  },
  {
   "cell_type": "code",
   "execution_count": null,
   "id": "22dc49c7",
   "metadata": {},
   "outputs": [
    {
     "name": "stdout",
     "output_type": "stream",
     "text": [
      "8\n",
      "1\n"
     ]
    }
   ],
   "source": [
    "# tamrin 4: Count words that start with a vowel\n",
    "\n",
    "\n",
    "def count_word_start_vowels(input:str) -> int:\n",
    "    vowel='aeoiu'\n",
    "    count=0\n",
    "    words=input.split()\n",
    "\n",
    "    for word in words: \n",
    "        word=word.lower()\n",
    "        if  word.startswith(tuple(vowel)):\n",
    "            count +=1\n",
    "\n",
    "    return count\n",
    "\n",
    "\n",
    "print(count_word_start_vowels(input=\"Apple is an orange umbrella on an island\"))\n",
    "print(count_word_start_vowels(input=\"Today is warm,humid\"))"
   ]
  }
 ],
 "metadata": {
  "kernelspec": {
   "display_name": "Python 3",
   "language": "python",
   "name": "python3"
  },
  "language_info": {
   "codemirror_mode": {
    "name": "ipython",
    "version": 3
   },
   "file_extension": ".py",
   "mimetype": "text/x-python",
   "name": "python",
   "nbconvert_exporter": "python",
   "pygments_lexer": "ipython3",
   "version": "3.13.5"
  }
 },
 "nbformat": 4,
 "nbformat_minor": 5
}
