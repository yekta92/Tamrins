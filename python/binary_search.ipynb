

from typing import List
        
input = [
    1,
    2,
    3,
    4,
    5,
    6,
    7
]
target =7


# def binary_search(input:List,target:int):

# if len(input) / 2 == 1: 

start=0
end=len(input) -1 

while start <= end:
    mid = (start + end) // 2

    print("s=",start)
    print("e=", end)
    print("m=",mid)
    print(">>>>>>>>>>>>>>")


    mid_val=input[mid
]

    if mid_val == target:
        print("mid_val=",mid_val)
        break


    elif mid_val < target :
        start = mid +1

    else:
        end = mid - 1




# binary_search(input,target)
