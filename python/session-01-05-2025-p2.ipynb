{
 "cells": [
  {
   "cell_type": "markdown",
   "id": "3c780608",
   "metadata": {},
   "source": [
    "# Title: Practice Converting Variable Types in Python\n",
    "\n",
    "## Introduction\n",
    "This notebook is designed to help you practice converting variable types in Python.\n",
    "There are 4 problems of varying difficulty levels. After each problem, there are test cases to validate your solution.\n"
   ]
  },
  {
   "cell_type": "markdown",
   "id": "f7a820bd",
   "metadata": {},
   "source": [
    "\n",
    "## Problem 1 - Easy (Converting a string to an integer)\n",
    "You are given a string representing a number. Your task is to convert that string into an integer.\n",
    "\n",
    "Example:\n",
    "    input: '123'\n",
    "    output: 123\n",
    "\n",
    "Write the function `string_to_int()` to solve this problem.\n"
   ]
  },
  {
   "cell_type": "code",
   "execution_count": 1,
   "id": "763764bc",
   "metadata": {},
   "outputs": [],
   "source": [
    "def string_to_int(num_str:str) -> int:\n",
    "    num=int(num_str)\n",
    "    return num\n",
    "\n",
    "\n",
    "# time= 3 min"
   ]
  },
  {
   "cell_type": "code",
   "execution_count": 2,
   "id": "3e9ffcee",
   "metadata": {},
   "outputs": [
    {
     "name": "stdout",
     "output_type": "stream",
     "text": [
      "Problem 1 Passed all test cases!\n"
     ]
    }
   ],
   "source": [
    "assert string_to_int(\"123\") == 123, \"Test Case 1 Failed\"\n",
    "# Additional test cases to ensure robustness\n",
    "assert string_to_int(\"0\") == 0, \"Test Case 2 Failed\"\n",
    "assert string_to_int(\"-456\") == -456, \"Test Case 3 Failed\"\n",
    "assert string_to_int(\"789\") == 789, \"Test Case 4 Failed\"\n",
    "print(\"Problem 1 Passed all test cases!\")"
   ]
  },
  {
   "cell_type": "markdown",
   "id": "7bcfd823",
   "metadata": {},
   "source": [
    "## Problem 2 - Medium (Converting a list of strings to integers)\n",
    "You are given a list of strings, where each string is a number. Your task is to convert all strings in the list into integers.\n",
    "\n",
    "Example:\n",
    "    input: ['1', '2', '3']\n",
    "    output: [1, 2, 3]\n",
    "\n",
    "Write the function `string_list_to_int_list()` to solve this problem.\n"
   ]
  },
  {
   "cell_type": "code",
   "execution_count": 3,
   "id": "630107b1",
   "metadata": {},
   "outputs": [],
   "source": [
    "def string_list_to_int_list(str_list:str) -> list:\n",
    "    res=[]\n",
    "    for s in str_list:\n",
    "        res.append(int(s))\n",
    "\n",
    "    return res\n",
    "\n",
    "\n",
    "\n",
    "    # num_list = [int(e) for e in str_list]\n",
    "    # return num_list\n",
    "\n",
    "# time= 3 min"
   ]
  },
  {
   "cell_type": "code",
   "execution_count": 4,
   "id": "173e3229",
   "metadata": {},
   "outputs": [
    {
     "name": "stdout",
     "output_type": "stream",
     "text": [
      "Problem 2 Passed all test cases!\n"
     ]
    }
   ],
   "source": [
    "# Test Case 1 for Problem 2\n",
    "assert string_list_to_int_list(['1', '2', '3']) == [1, 2, 3], \"Test Case 1 Failed\"\n",
    "# Additional test cases\n",
    "assert string_list_to_int_list(['0', '-1', '100']) == [0, -1, 100], \"Test Case 2 Failed\"\n",
    "assert string_list_to_int_list(['10', '20', '30']) == [10, 20, 30], \"Test Case 3 Failed\"\n",
    "print(\"Problem 2 Passed all test cases!\")"
   ]
  },
  {
   "cell_type": "markdown",
   "id": "9d3e6594",
   "metadata": {},
   "source": [
    "## Problem 3 - Hard (Converting between JSON and Python Objects)\n",
    "You are given a JSON-like string representation of data. Your task is to:\n",
    "1. Convert this JSON string into Python objects (e.g., a dictionary, list, etc.).\n",
    "2. After the conversion, extract specific data from the converted Python objects (e.g., a value from the dictionary or a list).\n",
    "3. Convert the Python objects back into a JSON string.\n",
    "\n",
    "Example:\n",
    "    input:\n",
    "        JSON string: '{\"name\": \"Alice\", \"age\": 25, \"friends\": [\"Bob\", \"Charlie\"]}'\n",
    "    output:\n",
    "        Python object: {'name': 'Alice', 'age': 25, 'friends': ['Bob', 'Charlie']}\n",
    "        Extracted data: Name = 'Alice', Age = 25\n",
    "        JSON string (reconverted): '{\"name\": \"Alice\", \"age\": 25, \"friends\": [\"Bob\", \"Charlie\"]}'\n",
    "\n",
    "Write the function `convert_json_and_extract()` to solve this problem.\n"
   ]
  },
  {
   "cell_type": "code",
   "execution_count": 5,
   "id": "4498c94e",
   "metadata": {},
   "outputs": [],
   "source": [
    "import json\n",
    "\n",
    "def convert_json_and_extract(json_str):\n",
    "    #2\n",
    "    input=json.loads(json_str)\n",
    "    name = input.get('name')\n",
    "    age = input.get('age')\n",
    "\n",
    "\n",
    "\n",
    "\n",
    "    #1\n",
    "    # input=json.loads(json_str)\n",
    "    # name = input['name']\n",
    "    # age = input['age']\n",
    "\n",
    "    return input,name,age,json_str\n",
    "\n",
    "\n",
    "# # time=25 min\n"
   ]
  },
  {
   "cell_type": "code",
   "execution_count": 6,
   "id": "af53e8a8",
   "metadata": {},
   "outputs": [
    {
     "name": "stdout",
     "output_type": "stream",
     "text": [
      "Problem 3 Passed all test cases!\n"
     ]
    }
   ],
   "source": [
    "# Test Case 1 for Problem 3\n",
    "json_input_1 = '{\"name\": \"Alice\", \"age\": 25, \"friends\": [\"Bob\", \"Charlie\"]}'\n",
    "python_obj_1, name_1, age_1, json_output_1 = convert_json_and_extract(json_input_1)\n",
    "\n",
    "assert python_obj_1 == {'name': 'Alice', 'age': 25, 'friends': ['Bob', 'Charlie']}, \"Test Case 1 Failed\"\n",
    "assert name_1 == 'Alice', \"Test Case 2 Failed\"\n",
    "assert age_1 == 25, \"Test Case 3 Failed\"\n",
    "assert json_output_1 == '{\"name\": \"Alice\", \"age\": 25, \"friends\": [\"Bob\", \"Charlie\"]}', \"Test Case 4 Failed\"\n",
    "\n",
    "# Test Case 2 for Problem 3\n",
    "json_input_2 = '{\"name\": \"Bob\", \"age\": 30, \"friends\": [\"Alice\", \"Charlie\"]}'\n",
    "python_obj_2, name_2, age_2, json_output_2 = convert_json_and_extract(json_input_2)\n",
    "assert python_obj_2 == {'name': 'Bob', 'age': 30, 'friends': ['Alice', 'Charlie']}, \"Test Case 5 Failed\"\n",
    "assert name_2 == 'Bob', \"Test Case 6 Failed\"\n",
    "assert age_2 == 30, \"Test Case 7 Failed\"\n",
    "assert json_output_2 == '{\"name\": \"Bob\", \"age\": 30, \"friends\": [\"Alice\", \"Charlie\"]}', \"Test Case 8 Failed\"\n",
    "\n",
    "print(\"Problem 3 Passed all test cases!\")\n"
   ]
  },
  {
   "cell_type": "markdown",
   "id": "ea438183",
   "metadata": {},
   "source": [
    "## Problem 4 (Hard) - Print JSON with Proper Indentation\n",
    "You are given a Python dictionary (which can represent a JSON object). Your task is to create a function that prints the dictionary in a readable format with proper indentation.\n",
    "\n",
    "Example:\n",
    "    input:\n",
    "        {\"name\": \"Alice\", \"age\": 25, \"address\": {\"street\": \"123 Main St\", \"city\": \"Wonderland\", \"postal_code\": \"12345\"}}\n",
    "    output:\n",
    "        {\n",
    "            \"name\": \"Alice\",\n",
    "            \"age\": 25,\n",
    "            \"address\": {\n",
    "                \"street\": \"123 Main St\",\n",
    "                \"city\": \"Wonderland\",\n",
    "                \"postal_code\": \"12345\"\n",
    "            }\n",
    "        }\n",
    "\n",
    "Write the function `print_json()` that takes in a Python dictionary and prints it with proper indentation.\n"
   ]
  },
  {
   "cell_type": "code",
   "execution_count": 7,
   "id": "f120374c",
   "metadata": {},
   "outputs": [],
   "source": [
    "import json\n",
    "\n",
    "def print_json(data):\n",
    "    # Pretty print the JSON object using json.dumps with indent\n",
    "    print(json.dumps(data, indent=4, sort_keys=True))\n",
    "\n",
    "\n",
    "\n",
    "# time=5 min"
   ]
  },
  {
   "cell_type": "code",
   "execution_count": 8,
   "id": "ebc6b5f9",
   "metadata": {},
   "outputs": [
    {
     "name": "stdout",
     "output_type": "stream",
     "text": [
      "Test Case 1 Output:\n",
      "{\n",
      "    \"address\": {\n",
      "        \"city\": \"Wonderland\",\n",
      "        \"postal_code\": \"12345\",\n",
      "        \"street\": \"123 Main St\"\n",
      "    },\n",
      "    \"age\": 25,\n",
      "    \"friends\": [\n",
      "        {\n",
      "            \"age\": 26,\n",
      "            \"name\": \"Bob\"\n",
      "        },\n",
      "        {\n",
      "            \"age\": 27,\n",
      "            \"name\": \"Charlie\"\n",
      "        }\n",
      "    ],\n",
      "    \"name\": \"Alice\"\n",
      "}\n",
      "Test Case 2 Output:\n",
      "{}\n",
      "Test Case 3 Output:\n",
      "{\n",
      "    \"age\": 30,\n",
      "    \"name\": \"Bob\"\n",
      "}\n"
     ]
    }
   ],
   "source": [
    "# Test Case 1 for Problem 4\n",
    "test_data_1 = {\n",
    "    \"name\": \"Alice\",\n",
    "    \"age\": 25,\n",
    "    \"address\": {\n",
    "        \"street\": \"123 Main St\",\n",
    "        \"city\": \"Wonderland\",\n",
    "        \"postal_code\": \"12345\"\n",
    "    },\n",
    "    \"friends\": [\n",
    "        {\"name\": \"Bob\", \"age\": 26},\n",
    "        {\"name\": \"Charlie\", \"age\": 27}\n",
    "    ]\n",
    "}\n",
    "print(\"Test Case 1 Output:\")\n",
    "print_json(test_data_1)\n",
    "\n",
    "# Test Case 2 for Problem 4 (Empty Dictionary)\n",
    "test_data_2 = {}\n",
    "print(\"Test Case 2 Output:\")\n",
    "print_json(test_data_2)\n",
    "\n",
    "# Test Case 3 for Problem 4 (Simple Dictionary)\n",
    "test_data_3 = {\"name\": \"Bob\", \"age\": 30}\n",
    "print(\"Test Case 3 Output:\")\n",
    "print_json(test_data_3)\n"
   ]
  },
  {
   "cell_type": "code",
   "execution_count": 9,
   "id": "9b7a3c0f",
   "metadata": {},
   "outputs": [
    {
     "name": "stdout",
     "output_type": "stream",
     "text": [
      "name: Alice\n",
      "age: 25\n",
      "address: \n",
      "    street: 123 Main St\n",
      "    city: Wonderland\n",
      "    postal_code: 12345\n",
      "friends: [{'name': 'Bob', 'age': 26}, {'name': 'Charlie', 'age': 27}]\n"
     ]
    }
   ],
   "source": [
    "def pretty_print_dict(d, indent=0):\n",
    "    for key, value in d.items():\n",
    "        print(' ' * indent + str(key) + ':', end=' ')\n",
    "        if isinstance(value, dict):\n",
    "            print()\n",
    "            pretty_print_dict(value, indent + 4)\n",
    "        else:\n",
    "            print(value)\n",
    "\n",
    "\n",
    "pretty_print_dict(test_data_1)"
   ]
  },
  {
   "cell_type": "code",
   "execution_count": 10,
   "id": "18da6568",
   "metadata": {},
   "outputs": [
    {
     "name": "stdout",
     "output_type": "stream",
     "text": [
      "[{'name': 'Bob', 'age': 26}, {'name': 'Charlie', 'age': 27}]\n",
      "[{'name': 'Bob', 'age': 26}, {'name': 'Charlie', 'age': 27}]\n",
      "[{'name': 'Bob', 'age': 26}, {'name': 'Charlie', 'age': 27}]\n",
      "[{'name': 'Bob', 'age': 26}, {'name': 'Charlie', 'age': 27}]\n"
     ]
    }
   ],
   "source": [
    "for k,v in test_data_1.items():\n",
    "    name = test_data_1['name']\n",
    "    age = test_data_1['age']\n",
    "    address = test_data_1['address'].values()\n",
    "    # print(type(address))\n",
    "\n",
    "    friends = test_data_1['friends']\n",
    "    # print(type(friends))\n",
    "    print([e for e in friends])\n",
    "\n",
    "    # print(name,age,address,friends)"
   ]
  },
  {
   "cell_type": "code",
   "execution_count": null,
   "id": "a5fb9464",
   "metadata": {},
   "outputs": [],
   "source": []
  },
  {
   "cell_type": "code",
   "execution_count": null,
   "id": "3bb0ae35",
   "metadata": {},
   "outputs": [],
   "source": []
  }
 ],
 "metadata": {
  "kernelspec": {
   "display_name": "Python 3",
   "language": "python",
   "name": "python3"
  },
  "language_info": {
   "codemirror_mode": {
    "name": "ipython",
    "version": 3
   },
   "file_extension": ".py",
   "mimetype": "text/x-python",
   "name": "python",
   "nbconvert_exporter": "python",
   "pygments_lexer": "ipython3",
   "version": "3.13.5"
  }
 },
 "nbformat": 4,
 "nbformat_minor": 5
}
