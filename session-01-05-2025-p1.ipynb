{
 "cells": [
  {
   "cell_type": "markdown",
   "id": "04fb2615",
   "metadata": {},
   "source": [
    "# Python Level 1 Programming Problems with Tests\n",
    "\n",
    "* Complete the functions below by **filling in the code** where **indicated**.\n",
    "* **Run the test** cells after each function to verify your solution."
   ]
  },
  {
   "cell_type": "code",
   "execution_count": null,
   "id": "eb03ebd8",
   "metadata": {},
   "outputs": [],
   "source": []
  },
  {
   "cell_type": "markdown",
   "id": "ab7258aa",
   "metadata": {},
   "source": [
    "## Problem 1: Even or Odd Checker\n",
    "Write a function that takes an integer and returns the string \"Even\" if the number is even, and \"Odd\" if the number is odd.\n"
   ]
  },
  {
   "cell_type": "code",
   "execution_count": 1,
   "id": "da36235b",
   "metadata": {},
   "outputs": [],
   "source": [
    "def even_or_odd(num:int)-> str:\n",
    "    #1\n",
    "    match num % 2:\n",
    "        case 1:\n",
    "            return \"Odd\"\n",
    "        case 0:\n",
    "            return \"Even\"\n",
    "        \n",
    "    #2\n",
    "    # if num % 2 == 1:\n",
    "    #     return(\"Odd\")\n",
    "    # else: \n",
    "    #     return(\"Even\")\n",
    "    \n",
    " \n",
    "\n",
    "# time=5 min"
   ]
  },
  {
   "cell_type": "code",
   "execution_count": null,
   "id": "2f4fc6b1",
   "metadata": {},
   "outputs": [
    {
     "data": {
      "text/plain": [
       "'Even'"
      ]
     },
     "execution_count": 2,
     "metadata": {},
     "output_type": "execute_result"
    }
   ],
   "source": [
    "even_or_odd(10)"
   ]
  },
  {
   "cell_type": "code",
   "execution_count": 3,
   "id": "4aa8b180",
   "metadata": {},
   "outputs": [
    {
     "name": "stdout",
     "output_type": "stream",
     "text": [
      "Problem 1 tests passed!\n"
     ]
    }
   ],
   "source": [
    "# Test for Problem 1\n",
    "assert even_or_odd(10) == \"Even\"\n",
    "assert even_or_odd(7) == \"Odd\"\n",
    "assert even_or_odd(0) == \"Even\"\n",
    "assert even_or_odd(-3) == \"Odd\"\n",
    "print(\"Problem 1 tests passed!\")\n"
   ]
  },
  {
   "cell_type": "markdown",
   "id": "2d730e1e",
   "metadata": {},
   "source": [
    "## Problem 2: Fahrenheit to Celsius Converter\n",
    "Write a function that converts a temperature from Fahrenheit to Celsius.\n",
    "Formula: `C = (F - 32) * 5/9`\n"
   ]
  },
  {
   "cell_type": "code",
   "execution_count": 4,
   "id": "6d524536",
   "metadata": {},
   "outputs": [],
   "source": [
    "\n",
    "def fahrenheit_to_celsius(fahrenheit:int) -> int:\n",
    "    celsius =( fahrenheit - 32) / (9/5)\n",
    "    return(celsius)\n",
    "\n",
    "# time=5 min"
   ]
  },
  {
   "cell_type": "code",
   "execution_count": 5,
   "id": "e4466aec",
   "metadata": {},
   "outputs": [
    {
     "name": "stdout",
     "output_type": "stream",
     "text": [
      "Problem 2 tests passed!\n"
     ]
    }
   ],
   "source": [
    "# Test for Problem 2\n",
    "assert abs(fahrenheit_to_celsius(32) - 0.0) < 0.001\n",
    "assert abs(fahrenheit_to_celsius(212) - 100.0) < 0.001\n",
    "assert abs(fahrenheit_to_celsius(100) - 37.7778) < 0.01\n",
    "print(\"Problem 2 tests passed!\")\n"
   ]
  },
  {
   "cell_type": "markdown",
   "id": "86694838",
   "metadata": {},
   "source": [
    "## Problem 3: Vowel Counter\n",
    "Write a function that counts the number of vowels (a, e, i, o, u) in a given string. The function should be case-insensitive.\n"
   ]
  },
  {
   "cell_type": "code",
   "execution_count": 6,
   "id": "703b8005",
   "metadata": {},
   "outputs": [],
   "source": [
    "def count_vowels(text:str) -> int:\n",
    "    vowels=['e','o','a','i','u']\n",
    "    #2\n",
    "    num_char=0\n",
    "    for char in text:\n",
    "        if char.lower() in vowels:\n",
    "            num_char +=  1\n",
    "\n",
    "    return num_char\n",
    "\n",
    "\n",
    "    #1\n",
    "    # element = [element for element in text.lower() if element in vowels] \n",
    "    # return len(element)\n",
    "\n",
    "\n",
    "# time=10 min"
   ]
  },
  {
   "cell_type": "code",
   "execution_count": 7,
   "id": "7731da1f",
   "metadata": {},
   "outputs": [
    {
     "name": "stdout",
     "output_type": "stream",
     "text": [
      "Problem 3 tests passed!\n"
     ]
    }
   ],
   "source": [
    "# Test for Problem 3\n",
    "assert count_vowels(\"Hello World\") == 3\n",
    "assert count_vowels(\"Python\") == 1\n",
    "assert count_vowels(\"AEIOUaeiou\") == 10\n",
    "assert count_vowels(\"\") == 0\n",
    "print(\"Problem 3 tests passed!\")\n"
   ]
  },
  {
   "cell_type": "markdown",
   "id": "f2bc07fa",
   "metadata": {},
   "source": [
    "## Problem 4: Reverse String\n",
    "Write a function that returns the reverse of a given string. Do NOT use Python's built-in reverse functions or slicing.\n"
   ]
  },
  {
   "cell_type": "code",
   "execution_count": 8,
   "id": "6077c2b0",
   "metadata": {},
   "outputs": [],
   "source": [
    "def reverse_string(text:str):\n",
    "    #2\n",
    "    res=''.join(reversed(text))\n",
    "    return res\n",
    "\n",
    "\n",
    "\n",
    "    #1\n",
    "    # return s[::-1]\n",
    "\n",
    "# time=5 min"
   ]
  },
  {
   "cell_type": "code",
   "execution_count": 9,
   "id": "4fa9289b",
   "metadata": {},
   "outputs": [
    {
     "name": "stdout",
     "output_type": "stream",
     "text": [
      "Problem 4 tests passed!\n"
     ]
    }
   ],
   "source": [
    "# Test for Problem 4\n",
    "assert reverse_string(\"hello\") == \"olleh\"\n",
    "assert reverse_string(\"Python\") == \"nohtyP\"\n",
    "assert reverse_string(\"\") == \"\"\n",
    "assert reverse_string(\"a\") == \"a\"\n",
    "print(\"Problem 4 tests passed!\")\n"
   ]
  },
  {
   "cell_type": "markdown",
   "id": "13ac21ca",
   "metadata": {},
   "source": [
    "## Problem 5: Merge Lists with Conditions\n",
    "Given two lists of integers, return a new list containing only the odd numbers from the first list and the even numbers from the second list.\n"
   ]
  },
  {
   "cell_type": "code",
   "execution_count": 10,
   "id": "2b187b55",
   "metadata": {},
   "outputs": [
    {
     "data": {
      "text/plain": [
       "[1, 3, 10, 20]"
      ]
     },
     "execution_count": 10,
     "metadata": {},
     "output_type": "execute_result"
    }
   ],
   "source": [
    "def merge_lists(list1, list2):\n",
    "    #2\n",
    "    l3=[]\n",
    "    for element in list1:\n",
    "        if element % 2 == 1 :\n",
    "            l3.append(element)\n",
    "\n",
    "    for element in list2:\n",
    "        if element % 2 == 0 :\n",
    "            l3.append(element)\n",
    "    \n",
    "    return l3       \n",
    "\n",
    "\n",
    "\n",
    "\n",
    "\n",
    "    #1\n",
    "    # l1 = [l for l in list1 if even_or_odd(l) == \"Odd\"]\n",
    "    # l2 = [l for l in list2 if l % 2 == 0]\n",
    "    # l1.extend(l2)\n",
    "    # return l1\n",
    "\n",
    "merge_lists([1, 2, 3, 4], [10, 15, 20, 25])\n",
    "\n",
    "# time=13 min\n"
   ]
  },
  {
   "cell_type": "code",
   "execution_count": 11,
   "id": "36e57992",
   "metadata": {},
   "outputs": [
    {
     "name": "stdout",
     "output_type": "stream",
     "text": [
      "Problem 5 tests passed!\n"
     ]
    }
   ],
   "source": [
    "# Test for Problem 5\n",
    "assert merge_lists([1, 2, 3, 4], [10, 15, 20, 25]) == [1, 3, 10, 20]\n",
    "assert merge_lists([], [2, 4, 6]) == [2, 4, 6]\n",
    "assert merge_lists([1, 3, 5], []) == [1, 3, 5]\n",
    "assert merge_lists([2, 4], [1, 3]) == []\n",
    "print(\"Problem 5 tests passed!\")\n"
   ]
  },
  {
   "cell_type": "markdown",
   "id": "d332eec4",
   "metadata": {},
   "source": [
    "## Problem 6: Factorial Calculator\n",
    "Write a function that calculates the factorial of a non-negative integer using a loop.\n",
    "\n",
    "Factorial of n (n!) = n * (n-1) * ... * 1, and 0! = 1."
   ]
  },
  {
   "cell_type": "code",
   "execution_count": 12,
   "id": "800d48a8",
   "metadata": {},
   "outputs": [
    {
     "data": {
      "text/plain": [
       "120"
      ]
     },
     "execution_count": 12,
     "metadata": {},
     "output_type": "execute_result"
    }
   ],
   "source": [
    "\n",
    "def factorial(n):\n",
    "    if n < 0:\n",
    "        return (\"this number is negetive\")\n",
    "    else:\n",
    "        f=1\n",
    "        for i in range(1,n+1,1):\n",
    "            f=f*i\n",
    "    return f\n",
    "\n",
    "\n",
    "factorial(5) \n",
    "# time=15 min\n"
   ]
  },
  {
   "cell_type": "code",
   "execution_count": 13,
   "id": "d0ba49a3",
   "metadata": {},
   "outputs": [
    {
     "name": "stdout",
     "output_type": "stream",
     "text": [
      "Problem 6 tests passed!\n"
     ]
    }
   ],
   "source": [
    "# Test for Problem 6\n",
    "assert factorial(5) == 120\n",
    "assert factorial(0) == 1\n",
    "assert factorial(1) == 1\n",
    "assert factorial(3) == 6\n",
    "print(\"Problem 6 tests passed!\")\n"
   ]
  },
  {
   "cell_type": "markdown",
   "id": "46cfab17",
   "metadata": {},
   "source": [
    "## Problem 7: Palindrome Checker\n",
    "Write a function that checks whether a string or number is a palindrome. A palindrome reads the same forwards and backwards."
   ]
  },
  {
   "cell_type": "code",
   "execution_count": 14,
   "id": "a7030aaa",
   "metadata": {},
   "outputs": [],
   "source": [
    "\n",
    "\n",
    "def is_palindrome(value):\n",
    "    \n",
    "    if type(value) == str:\n",
    "        if value[::-1]== value:\n",
    "            return True\n",
    "        else:\n",
    "            return False\n",
    "    if type(value) == int:\n",
    "        if value == int(str(value)[::-1]):\n",
    "            return True\n",
    "        else:\n",
    "            return False\n",
    "\n",
    "\n",
    "\n",
    "    # # matchcase run in python3\n",
    "    #     match type(value):\n",
    "    #         case (str) :\n",
    "    #             if value[::-1]==value:\n",
    "    #                 return True\n",
    "    #             else:\n",
    "    #                 return False\n",
    "    #         case(int):\n",
    "    #             if value == int(str(value)[::-1]):\n",
    "    #                 return True \n",
    "          \n",
    "\n",
    "\n",
    "# time=15 min\n",
    "\n"
   ]
  },
  {
   "cell_type": "code",
   "execution_count": 15,
   "id": "91ae25a8",
   "metadata": {},
   "outputs": [
    {
     "name": "stdout",
     "output_type": "stream",
     "text": [
      "Problem 7 tests passed!\n"
     ]
    }
   ],
   "source": [
    "# Test for Problem 7\n",
    "assert is_palindrome(\"madam\") == True\n",
    "assert is_palindrome(121) == True\n",
    "assert is_palindrome(\"hello\") == False\n",
    "assert is_palindrome(\"A\") == True\n",
    "assert is_palindrome(\"\") == True\n",
    "print(\"Problem 7 tests passed!\")\n"
   ]
  },
  {
   "cell_type": "markdown",
   "id": "e22693bf",
   "metadata": {},
   "source": [
    "## Problem 8: Simple Calculator\n",
    "Write a function that takes two numbers and a string operator ('+', '-', '*', '/')\n",
    "\n",
    "and returns the result of the operation.\n",
    "\n",
    "If division by zero occurs, return None.\n"
   ]
  },
  {
   "cell_type": "code",
   "execution_count": 16,
   "id": "9747ba78",
   "metadata": {},
   "outputs": [],
   "source": [
    "def simple_calculator(num1:int, num2:int, opt:str):\n",
    "    \n",
    "    if opt == '+' :\n",
    "        res = num1  + num2 \n",
    "    elif opt == '-' :\n",
    "        res = num1  - num2 \n",
    "    elif opt == '*' :\n",
    "        res = num1  * num2 \n",
    "    elif opt == '/' :\n",
    "        if num2 == 0 :\n",
    "            res = None\n",
    "        else:\n",
    "            res =  num1 / num2 \n",
    "    elif  opt == '%' :\n",
    "        res = None \n",
    "        \n",
    "\n",
    "    return res\n",
    "\n",
    "\n",
    "    # match opt:\n",
    "    #     case('+'):\n",
    "    #         res = num1  + num2 \n",
    "    #     case('-'):\n",
    "    #         res = num1  - num2 \n",
    "    #     case('*'):\n",
    "    #         res = num1  * num2 \n",
    "    #     case('/'):\n",
    "    #        if num2 == 0 :\n",
    "    #             res = None\n",
    "    #         else:\n",
    "    #             res =  num1 / num2 \n",
    "    #     case('%') :\n",
    "    #         res = None \n",
    "    # return res\n",
    "\n",
    "\n",
    "# time=20 min\n",
    "\n"
   ]
  },
  {
   "cell_type": "code",
   "execution_count": 17,
   "id": "4de71052",
   "metadata": {},
   "outputs": [
    {
     "name": "stdout",
     "output_type": "stream",
     "text": [
      "Problem 8 tests passed!\n"
     ]
    }
   ],
   "source": [
    "# Test for Problem 8\n",
    "assert simple_calculator(10, 5, '+') == 15\n",
    "assert simple_calculator(10, 5, '-') == 5\n",
    "assert simple_calculator(10, 5, '*') == 50\n",
    "assert simple_calculator(10, 5, '/') == 2\n",
    "assert simple_calculator(10, 0, '/') == None\n",
    "assert simple_calculator(10, 5, '%') == None  # unsupported operator\n",
    "print(\"Problem 8 tests passed!\")\n"
   ]
  },
  {
   "cell_type": "code",
   "execution_count": null,
   "id": "962586af",
   "metadata": {},
   "outputs": [],
   "source": []
  },
  {
   "cell_type": "code",
   "execution_count": null,
   "id": "26fa9afb",
   "metadata": {},
   "outputs": [],
   "source": []
  }
 ],
 "metadata": {
  "kernelspec": {
   "display_name": "Python 3",
   "language": "python",
   "name": "python3"
  },
  "language_info": {
   "codemirror_mode": {
    "name": "ipython",
    "version": 3
   },
   "file_extension": ".py",
   "mimetype": "text/x-python",
   "name": "python",
   "nbconvert_exporter": "python",
   "pygments_lexer": "ipython3",
   "version": "3.13.3"
  }
 },
 "nbformat": 4,
 "nbformat_minor": 5
}
